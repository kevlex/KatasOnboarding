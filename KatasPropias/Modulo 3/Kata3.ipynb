{
 "cells": [
  {
   "cell_type": "markdown",
   "metadata": {},
   "source": [
    "## Asteroide acercandose a 49km/s"
   ]
  },
  {
   "cell_type": "code",
   "execution_count": 1,
   "metadata": {},
   "outputs": [
    {
     "name": "stdout",
     "output_type": "stream",
     "text": [
      "Alerta! se aproxima un asteroide a gran velocidad\n"
     ]
    }
   ],
   "source": [
    "asteroide = 49\n",
    "if(asteroide > 25):\n",
    "    print(\"Alerta! se aproxima un asteroide a gran velocidad\")\n",
    "else:\n",
    "    print(\"Aqui no ha pasado nada de nada\")"
   ]
  },
  {
   "cell_type": "markdown",
   "metadata": {},
   "source": [
    "## Asteroide acercandose a 19km/s"
   ]
  },
  {
   "cell_type": "code",
   "execution_count": 2,
   "metadata": {},
   "outputs": [
    {
     "name": "stdout",
     "output_type": "stream",
     "text": [
      "No se ve nada de nada\n"
     ]
    }
   ],
   "source": [
    "asteroide = 19 \n",
    "if(asteroide == 20):\n",
    "    print(\"Miren! Que es esa luz?\")\n",
    "elif(asteroide > 20):\n",
    "    print(\"Miren! Que es esa luz?\")\n",
    "else:\n",
    "    print(\"No se ve nada de nada\")\n"
   ]
  },
  {
   "cell_type": "markdown",
   "metadata": {},
   "source": [
    "## Asteroide con tamaño y velocidad"
   ]
  },
  {
   "cell_type": "code",
   "execution_count": 3,
   "metadata": {},
   "outputs": [
    {
     "name": "stdout",
     "output_type": "stream",
     "text": [
      "Todo bello, todo cool. El mundo en paz.\n"
     ]
    }
   ],
   "source": [
    "t_asteroide = 24\n",
    "v_asteroide = 50\n",
    "\n",
    "if (t_asteroide > 25 and v_asteroide > 25):\n",
    "    print(\"Alerta! se acerca un asteroide a la atmosfera\")\n",
    "elif(t_asteroide < 25):\n",
    "    print(\"Todo bello, todo cool. El mundo en paz.\")\n",
    "elif(v_asteroide >= 20):\n",
    "    print(\"Miren! Que es esa luz?\")\n",
    "else:\n",
    "    print(\"Todo bello, todo cool. El mundo en paz.\")"
   ]
  }
 ],
 "metadata": {
  "interpreter": {
   "hash": "7f316ce05a0c4170ba4484e3efd14dee3226178e34dfd81e786ec8a894f84480"
  },
  "kernelspec": {
   "display_name": "Python 3.10.2 64-bit",
   "language": "python",
   "name": "python3"
  },
  "language_info": {
   "codemirror_mode": {
    "name": "ipython",
    "version": 3
   },
   "file_extension": ".py",
   "mimetype": "text/x-python",
   "name": "python",
   "nbconvert_exporter": "python",
   "pygments_lexer": "ipython3",
   "version": "3.10.2"
  },
  "orig_nbformat": 4
 },
 "nbformat": 4,
 "nbformat_minor": 2
}
