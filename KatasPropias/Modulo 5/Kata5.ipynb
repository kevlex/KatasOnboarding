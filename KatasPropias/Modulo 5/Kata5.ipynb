{
 "cells": [
  {
   "cell_type": "markdown",
   "metadata": {},
   "source": [
    "## Calculo de la distancia entre dos planetas"
   ]
  },
  {
   "cell_type": "code",
   "execution_count": 1,
   "metadata": {},
   "outputs": [
    {
     "name": "stdout",
     "output_type": "stream",
     "text": [
      "La distancia entre la tierra y jupiter es:  628949330 km\n"
     ]
    }
   ],
   "source": [
    "\n",
    "tierra = 149597870\n",
    "jupiter = 778547200\n",
    "distancia = jupiter - tierra\n",
    "\n",
    "print(\"La distancia entre la tierra y jupiter es: \", distancia,\"km\")\n",
    "\n"
   ]
  },
  {
   "cell_type": "markdown",
   "metadata": {},
   "source": [
    "## Distancia en millas"
   ]
  },
  {
   "cell_type": "code",
   "execution_count": 2,
   "metadata": {},
   "outputs": [
    {
     "name": "stdout",
     "output_type": "stream",
     "text": [
      "La distancia en millas es:  390577534 mi\n"
     ]
    }
   ],
   "source": [
    "d_millas = distancia  * 0.621\n",
    "print(\"La distancia en millas es: \",round(d_millas),\"mi\")"
   ]
  },
  {
   "cell_type": "markdown",
   "metadata": {},
   "source": [
    "## Entrada de datos de la distancia de los planetas al sol\n"
   ]
  },
  {
   "cell_type": "code",
   "execution_count": 1,
   "metadata": {},
   "outputs": [],
   "source": [
    "p_planeta = input('Introduce el la distancia al sol del primer planeta: ')\n",
    "s_planeta = input('Introduce el la distancia al sol del segundo planeta: ')\n",
    "\n",
    "p_planeta = int(p_planeta)\n",
    "s_planeta = int(s_planeta)\n"
   ]
  },
  {
   "cell_type": "code",
   "execution_count": 2,
   "metadata": {},
   "outputs": [
    {
     "name": "stdout",
     "output_type": "stream",
     "text": [
      "-49900\n",
      "49900\n"
     ]
    }
   ],
   "source": [
    "\n",
    "distancia = s_planeta - p_planeta\n",
    "print(distancia)\n",
    "\n",
    "distancia_mi = distancia * 0.621\n",
    "print(abs(distancia))"
   ]
  }
 ],
 "metadata": {
  "interpreter": {
   "hash": "2e2d9b89e9a1471e632400043d4a1cf9be3ca4f4faeac64b82797bd0a8182146"
  },
  "kernelspec": {
   "display_name": "Python 3.10.2 64-bit (windows store)",
   "language": "python",
   "name": "python3"
  },
  "language_info": {
   "codemirror_mode": {
    "name": "ipython",
    "version": 3
   },
   "file_extension": ".py",
   "mimetype": "text/x-python",
   "name": "python",
   "nbconvert_exporter": "python",
   "pygments_lexer": "ipython3",
   "version": "3.10.2"
  },
  "orig_nbformat": 4
 },
 "nbformat": 4,
 "nbformat_minor": 2
}
