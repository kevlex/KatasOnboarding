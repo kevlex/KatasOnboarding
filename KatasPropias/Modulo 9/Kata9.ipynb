{
 "cells": [
  {
   "cell_type": "markdown",
   "metadata": {},
   "source": [
    "## Funcion con tres lecturas de combustible"
   ]
  },
  {
   "cell_type": "code",
   "execution_count": 3,
   "metadata": {},
   "outputs": [],
   "source": [
    "def informe (tanque1,tanque2,tanque3):\n",
    "    promedio = (tanque1+tanque2+tanque3)/3\n",
    "    return f\"\"\"Informe de combustible\n",
    "    Tanque 1: {tanque1}%\n",
    "    Tanque 2: {tanque2}%\n",
    "    Tanque 3: {tanque3}% \n",
    "    Promedio: {round(promedio,2)}%   \n",
    "    \"\"\""
   ]
  },
  {
   "cell_type": "markdown",
   "metadata": {},
   "source": [
    "## Llamada a la funcion de informes\n"
   ]
  },
  {
   "cell_type": "code",
   "execution_count": 4,
   "metadata": {},
   "outputs": [
    {
     "name": "stdout",
     "output_type": "stream",
     "text": [
      "Informe de combustible\n",
      "    Tanque 1: 75%\n",
      "    Tanque 2: 80%\n",
      "    Tanque 3: 90% \n",
      "    Promedio: 81.67%   \n",
      "    \n"
     ]
    }
   ],
   "source": [
    "print(informe(75,80,90))"
   ]
  },
  {
   "cell_type": "markdown",
   "metadata": {},
   "source": [
    "## Funcion para calcular el promedio"
   ]
  },
  {
   "cell_type": "code",
   "execution_count": 5,
   "metadata": {},
   "outputs": [],
   "source": [
    "def promedio (porcentajes):\n",
    "    suma = sum(porcentajes)\n",
    "    n_entradas = len(porcentajes)\n",
    "    return suma/n_entradas"
   ]
  },
  {
   "cell_type": "markdown",
   "metadata": {},
   "source": [
    "## Funcion de informes actualizada"
   ]
  },
  {
   "cell_type": "code",
   "execution_count": 9,
   "metadata": {},
   "outputs": [
    {
     "name": "stdout",
     "output_type": "stream",
     "text": [
      "Informe de combustible\n",
      "    Tanque 1: 75%\n",
      "    Tanque 2: 80%\n",
      "    Tanque 3: 90% \n",
      "    Promedio: 81.67%   \n",
      "    \n"
     ]
    }
   ],
   "source": [
    "def informe (tanque1,tanque2,tanque3):\n",
    "    return f\"\"\"Informe de combustible\n",
    "    Tanque 1: {tanque1}%\n",
    "    Tanque 2: {tanque2}%\n",
    "    Tanque 3: {tanque3}% \n",
    "    Promedio: {round(promedio([tanque1,tanque2,tanque3]),2)}%   \n",
    "    \"\"\"\n",
    "\n",
    "print(informe(75,80,90))"
   ]
  },
  {
   "cell_type": "markdown",
   "metadata": {},
   "source": [
    "## Funcion con un informe preciso de la mision \n"
   ]
  },
  {
   "cell_type": "code",
   "execution_count": 17,
   "metadata": {},
   "outputs": [
    {
     "name": "stdout",
     "output_type": "stream",
     "text": [
      "\n",
      "    Destino: Marte\n",
      "    Tiempo de viaje = 110 minutos\n",
      "    Tanque externo = 14000000 litros\n",
      "    Tanque interno = 14000000 litros\n",
      "    \n"
     ]
    }
   ],
   "source": [
    "def informe (tiempo_prelanzamiento,tiempo_vuelo,destino,t_externo,t_interno):\n",
    "    return f\"\"\"\n",
    "    Destino: {destino}\n",
    "    Tiempo de viaje = {tiempo_prelanzamiento+tiempo_vuelo} minutos\n",
    "    Tanque externo = {t_externo} litros\n",
    "    Tanque interno = {t_interno} litros\n",
    "    \"\"\"\n",
    "print(informe(20,90,\"Marte\",14000000,14000000))"
   ]
  },
  {
   "cell_type": "markdown",
   "metadata": {},
   "source": [
    "## Funcion con argumentos variables"
   ]
  },
  {
   "cell_type": "code",
   "execution_count": 16,
   "metadata": {},
   "outputs": [
    {
     "name": "stdout",
     "output_type": "stream",
     "text": [
      "\n",
      "    Destino: Luna\n",
      "    Tiempo de viaje = 110 minutos\n",
      "    Combustible = 28000000 litros\n",
      "    \n"
     ]
    }
   ],
   "source": [
    "def informe(destino, *minutos,**reservas_combustible):\n",
    "    return f\"\"\"\n",
    "    Destino: {destino}\n",
    "    Tiempo de viaje = {sum(minutos)} minutos\n",
    "    Combustible = {sum(reservas_combustible.values())} litros\n",
    "    \"\"\"\n",
    "print(informe(\"Luna\",20,90, externo = 14000000, interno = 14000000 ))"
   ]
  },
  {
   "cell_type": "markdown",
   "metadata": {},
   "source": [
    "## Funcion con nombre en los tanques"
   ]
  },
  {
   "cell_type": "code",
   "execution_count": 20,
   "metadata": {},
   "outputs": [
    {
     "name": "stdout",
     "output_type": "stream",
     "text": [
      "\n",
      "    Destino: Luna\n",
      "    Tiempo de viaje = 110 minutos\n",
      "    Combustible = 28000000 litros\n",
      "    Tanque externo: 14000000 litros\n",
      "Tanque interno: 14000000 litros\n",
      "\n"
     ]
    }
   ],
   "source": [
    "def informe(destino, *minutos,**reservas_combustible):\n",
    "    informe_tem = f\"\"\"\n",
    "    Destino: {destino}\n",
    "    Tiempo de viaje = {sum(minutos)} minutos\n",
    "    Combustible = {sum(reservas_combustible.values())} litros\n",
    "    \"\"\"\n",
    "    for tanque, litros in reservas_combustible.items():\n",
    "        informe_tem = informe_tem + f'Tanque {tanque}: {litros} litros\\n'\n",
    "    return informe_tem\n",
    "\n",
    "print(informe(\"Luna\",20,90, externo = 14000000, interno = 14000000 ))"
   ]
  }
 ],
 "metadata": {
  "interpreter": {
   "hash": "7f316ce05a0c4170ba4484e3efd14dee3226178e34dfd81e786ec8a894f84480"
  },
  "kernelspec": {
   "display_name": "Python 3.10.2 64-bit",
   "language": "python",
   "name": "python3"
  },
  "language_info": {
   "codemirror_mode": {
    "name": "ipython",
    "version": 3
   },
   "file_extension": ".py",
   "mimetype": "text/x-python",
   "name": "python",
   "nbconvert_exporter": "python",
   "pygments_lexer": "ipython3",
   "version": "3.10.2"
  },
  "orig_nbformat": 4
 },
 "nbformat": 4,
 "nbformat_minor": 2
}
